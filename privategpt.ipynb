{
 "cells": [
  {
   "cell_type": "code",
   "execution_count": 1,
   "metadata": {},
   "outputs": [
    {
     "name": "stderr",
     "output_type": "stream",
     "text": [
      "/Users/seunghyunlee/SideProject/2024sideproj/venv/lib/python3.11/site-packages/tqdm/auto.py:21: TqdmWarning: IProgress not found. Please update jupyter and ipywidgets. See https://ipywidgets.readthedocs.io/en/stable/user_install.html\n",
      "  from .autonotebook import tqdm as notebook_tqdm\n"
     ]
    },
    {
     "name": "stdout",
     "output_type": "stream",
     "text": [
      "The token has not been saved to the git credentials helper. Pass `add_to_git_credential=True` in this function directly or `--add-to-git-credential` if using via `huggingface-cli` if you want to set the git credential as well.\n",
      "Token is valid (permission: write).\n",
      "Your token has been saved to /Users/seunghyunlee/.cache/huggingface/token\n",
      "Login successful\n"
     ]
    },
    {
     "data": {
      "text/plain": [
       "' in English?\\n\\nPotato is a starchy tuber that is a common food source for many people around the world. It is a member of the Solanaceae family, which also includes tomatoes, peppers, and eggplants. Potatoes are native to South America and were first domesticated by the indigenous peoples of the Andes region thousands of years ago.\\n\\nPotatoes are grown in many different varieties, with some being more suitable for baking, boiling, or frying. They are a versatile food and can be prepared in a variety of ways, such as mashed, roasted, fried, or baked. Potatoes are a good source of carbohydrates, fiber, and vitamins, particularly vitamin C and B6.\\n\\nIn English, the word \"potato\" is pronounced with a long \"o\" sound, like the word \"toe.\" It is spelled with two \"t\"s and one \"a,\" and it is a noun that refers to the tuber itself. The plural form of potato is potatoes. The word \"potato\" is derived from the Spanish word \"patata,\" which'"
      ]
     },
     "execution_count": 1,
     "metadata": {},
     "output_type": "execute_result"
    }
   ],
   "source": [
    "from langchain_huggingface import HuggingFaceEndpoint\n",
    "from langchain.prompts import PromptTemplate\n",
    "\n",
    "prompt = PromptTemplate.from_template(\"What os the meaning of {word}\")\n",
    "\n",
    "llm = HuggingFaceEndpoint(\n",
    "    repo_id=\"mistralai/Mistral-7B-Instruct-v0.3\",\n",
    "    max_new_tokens=250,\n",
    "    temperature=0.5\n",
    "    )\n",
    "\n",
    "chain = prompt | llm\n",
    "\n",
    "chain.invoke({\"word\":\"potato\"})\n"
   ]
  },
  {
   "cell_type": "markdown",
   "metadata": {},
   "source": []
  }
 ],
 "metadata": {
  "kernelspec": {
   "display_name": "venv",
   "language": "python",
   "name": "python3"
  },
  "language_info": {
   "codemirror_mode": {
    "name": "ipython",
    "version": 3
   },
   "file_extension": ".py",
   "mimetype": "text/x-python",
   "name": "python",
   "nbconvert_exporter": "python",
   "pygments_lexer": "ipython3",
   "version": "3.11.6"
  }
 },
 "nbformat": 4,
 "nbformat_minor": 2
}
