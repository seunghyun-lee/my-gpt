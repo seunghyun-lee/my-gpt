{
 "cells": [
  {
   "cell_type": "markdown",
   "metadata": {},
   "source": [
    "# AI Journalist\n",
    "AI-Powered Article Generator: Collects and analyzes the latest news to craft high-quality articles autonomously.\n",
    "\n",
    "AI 기반 자동 기사 생성 시스템: 최신 뉴스를 수집하고 분석하여 고품질의 기사를 작성합니다.\n",
    "\n",
    "# What we want to know\n",
    "1. 기존 기사 데이터를 바탕으로 새로운 기사를 생성할 수 있는가\n",
    "2. Cost effective 하면서도 높은 품질의 기사를 생성할 수 있는가\n",
    "\n",
    "# Pipeline\n",
    "1. 필요한 라이브러리 설치 및 API 키 설정\n",
    "2. 주제 설정 (\"아이폰 16 출시 및 스펙\")\n",
    "3. AI(Claude)를 사용해 주제와 관련된 5개의 검색어 생성 (Claude 3 Haiku)\n",
    "4. 생성된 검색어로 Google 뉴스 검색 수행 (SerpAPI)\n",
    "5. 각 검색 결과에서 AI가 가장 관련성 높은 기사 선택 (Claude 3 Haiku)\n",
    "6. 선택된 기사들의 본문 내용 추출\n",
    "7. 추출된 내용을 바탕으로 AI가 한국어로 NYT 스타일의 기사 작성 (Claude 3.5 Sonnet)\n",
    "\n",
    "# API Usage while development\n",
    "Total cost: $0.3464 (461.29 South Korean won)\n",
    "\n",
    "Claude 3 Haiku\n",
    "\n",
    "Input: $0.0049 (0.019 Million Input Tokens)\n",
    "Output: $0.0015 (0.001 Million Output Tokens)\n",
    "\n",
    "Claude 3.5 Sonnet\n",
    "\n",
    "Input: $0.21 (0.071 Million Input Tokens)\n",
    "Output: $0.13 (0.008 Million Output Tokens)\n",
    "\n",
    "# Reference\n",
    "https://github.com/mshumer/ai-journalist"
   ]
  },
  {
   "cell_type": "markdown",
   "metadata": {},
   "source": [
    "%pip install anthropic\n",
    "%pip install google-search-results\n",
    "%pip install newspaper3k"
   ]
  },
  {
   "cell_type": "markdown",
   "metadata": {},
   "source": [
    "# API keys\n",
    "https://console.anthropic.com/settings/keys\n",
    "https://serpapi.com/dashboard"
   ]
  },
  {
   "cell_type": "code",
   "execution_count": 1,
   "metadata": {},
   "outputs": [],
   "source": [
    "import os\n",
    "from dotenv import load_dotenv\n",
    "import anthropic\n",
    "\n",
    "load_dotenv()\n",
    "\n",
    "# Make sure to set your OpenAI API key in your environment variables\n",
    "ANTHROPIC_API_KEY = os.getenv(\"ANTHROPIC_API_KEY\")\n",
    "SERP_API_KEY = os.getenv(\"SERP_API_KEY\")"
   ]
  },
  {
   "cell_type": "markdown",
   "metadata": {},
   "source": [
    "# Topic"
   ]
  },
  {
   "cell_type": "code",
   "execution_count": 2,
   "metadata": {},
   "outputs": [
    {
     "name": "stdout",
     "output_type": "stream",
     "text": [
      "OpenAI의 GPT o1-preview 발표 및 상세 내용\n"
     ]
    }
   ],
   "source": [
    "topic = \"OpenAI의 GPT o1-preview 발표 및 상세 내용\"\n",
    "print(topic)"
   ]
  },
  {
   "cell_type": "markdown",
   "metadata": {},
   "source": [
    "# Search Terms\n",
    "Topic을 바탕으로 5개의 검색어 생성\n",
    "\n",
    "상대적으로 저렴한 Claude 3 Haiku 모델을 사용하여 검색어 생성"
   ]
  },
  {
   "cell_type": "code",
   "execution_count": 3,
   "metadata": {},
   "outputs": [
    {
     "name": "stdout",
     "output_type": "stream",
     "text": [
      "['OpenAI GPT-3 preview', 'GPT-3 model capabilities', 'GPT-3 technical details', 'GPT-3 potential applications', 'GPT-3 ethical considerations']\n"
     ]
    }
   ],
   "source": [
    "\n",
    "client = anthropic.Anthropic(api_key=ANTHROPIC_API_KEY)\n",
    "system_prompt = \"You are a world-class journalist. Gernerate a list of 5 search terms to search for to research and write an article about the topic.\"\n",
    "messages = [{\n",
    "    \"role\": \"user\",\n",
    "    \"content\": [{\n",
    "        \"type\": \"text\",\n",
    "        \"text\": f\"Please provide a list of 5 search terms related to '{topic}' for researching and writing an article. Respond with the search terms in Python-parseable list, separated by commas. Ensure the search terms are specific to the topic and not too general. Ensure the search terms are written in English.\\n\\ne.g. ['search term 1', 'search term 2', 'search term 3', 'search term 4', 'search term 5']\",\n",
    "    }]\n",
    "}]\n",
    "message = client.messages.create(\n",
    "    model=\"claude-3-haiku-20240307\",\n",
    "    max_tokens=200,\n",
    "    temperature=0.5,\n",
    "    system=system_prompt,\n",
    "    messages=messages,\n",
    ")\n",
    "print(message.content[0].text)"
   ]
  },
  {
   "cell_type": "markdown",
   "metadata": {},
   "source": [
    "# Parse search terms\n",
    "String을 Python list 형식으로 변환"
   ]
  },
  {
   "cell_type": "code",
   "execution_count": 4,
   "metadata": {},
   "outputs": [
    {
     "name": "stdout",
     "output_type": "stream",
     "text": [
      "['OpenAI GPT-3 preview', 'GPT-3 model capabilities', 'GPT-3 technical details', 'GPT-3 potential applications', 'GPT-3 ethical considerations']\n"
     ]
    }
   ],
   "source": [
    "import re\n",
    "\n",
    "response = message.content[0].text\n",
    "list_pattern = r'\\[(.*?)\\]'\n",
    "match = re.search(list_pattern, response)\n",
    "\n",
    "if match:\n",
    "    list_string = match.group(1)\n",
    "    search_terms = [term.strip().strip(\"'\") for term in list_string.split(',')]\n",
    "    print(search_terms)\n",
    "else:\n",
    "    print(\"리스트를 찾을 수 없습니다.\")"
   ]
  },
  {
   "cell_type": "markdown",
   "metadata": {},
   "source": [
    "# Search for news articles\n",
    "1. 각 검색어에 대해 뉴스 검색 수행 (Google Search)\n",
    "2. 검색 결과에서 가장 관련성 높은 기사 선택 (Claude 3 Haiku)"
   ]
  },
  {
   "cell_type": "code",
   "execution_count": 5,
   "metadata": {},
   "outputs": [
    {
     "name": "stdout",
     "output_type": "stream",
     "text": [
      "5\n",
      "0\n",
      "2\n",
      "4\n",
      "7\n",
      "['https://www.cgwall.com/usa/introducing-openai-o1-a-leap-forward-in-ai-reasoning-with-new-preview-models/', 'https://fortune.com/2024/09/13/openai-o1-strawberry-model-9-things-you-need-know/', 'https://www.techtarget.com/whatis/feature/GPT-4o-explained-Everything-you-need-to-know', 'https://cointelegraph.com/explained/what-is-gpt-4o-and-how-is-it-different-from-gpt-3-gpt-35-and-gpt-4', 'https://www.analyticsinsight.net/chatgpt/evolution-of-chatgpt-from-gpt-3-to-gpt-4-and-beyond']\n"
     ]
    }
   ],
   "source": [
    "from serpapi import GoogleSearch\n",
    "\n",
    "relevant_urls = []\n",
    "\n",
    "for term in search_terms:\n",
    "    params = {\n",
    "        \"engine\": \"google\",\n",
    "        \"q\": term,\n",
    "        \"api_key\": SERP_API_KEY,\n",
    "        \"tbs\": \"sbd:1\", # sort by date\n",
    "        \"tbm\": \"nws\", # news\n",
    "        \"location\": \"New York, New York, United States\",\n",
    "        \"gl\": \"us\",\n",
    "        \"hl\": \"en\",\n",
    "    }\n",
    "\n",
    "    search = GoogleSearch(params)\n",
    "    results = search.get_dict()\n",
    "    news_results = results[\"news_results\"]\n",
    "\n",
    "    news_results_title = \"\\n\".join([f\"{i+1}. {result['title']}\" for i, result in enumerate(news_results)])\n",
    "\n",
    "    system_prompt = \"You are a jounalist assistant. From the given search results, select the title that seems most relevant and informative for writing an article on the topic.\"\n",
    "    messages = [{\n",
    "        \"role\": \"user\",\n",
    "        \"content\": [{\n",
    "            \"type\": \"text\",\n",
    "            \"text\": f\"Search Results:\\n{news_results_title}\\n\\nPlease select the single number of the title that seems most relevant for writing an article on the topic '{topic}'. Respond with the single number of the title that seems most relevant. Ensure return the number only.\\ne.g. 1\",\n",
    "        }]\n",
    "    }]\n",
    "\n",
    "    message = client.messages.create(\n",
    "        model=\"claude-3-haiku-20240307\",\n",
    "        max_tokens=2,\n",
    "        temperature=0,\n",
    "        system=system_prompt,\n",
    "        messages=messages,\n",
    "    )\n",
    "    relevant_id = int(message.content[0].text) - 1\n",
    "    print(relevant_id)\n",
    "    relevant_urls.extend([news_results[relevant_id][\"link\"]])\n",
    "\n",
    "print(relevant_urls)"
   ]
  },
  {
   "cell_type": "code",
   "execution_count": 6,
   "metadata": {},
   "outputs": [
    {
     "data": {
      "text/plain": [
       "{'position': 1,\n",
       " 'link': 'https://analyticsindiamag.com/topics/best-chatgpt-alternatives/',\n",
       " 'title': 'The 10 Best ChatGPT Alternatives in 2024',\n",
       " 'source': 'Analytics India Magazine',\n",
       " 'date': '3 weeks ago',\n",
       " 'snippet': \"Google Gemini is a strong alternative to ChatGPT 4 due to its advanced \\nmultimodal capabilities, integration with Google's ecosystem, and powerful \\nreasoning...\",\n",
       " 'thumbnail': 'https://serpapi.com/searches/66e676e258e4339428d03e5d/images/adb569ddcebf2e9e3cbdde7e168d9f5f151339a0e551bbbaeb9aad5f5850b895.jpeg'}"
      ]
     },
     "execution_count": 6,
     "metadata": {},
     "output_type": "execute_result"
    }
   ],
   "source": [
    "news_results[0]"
   ]
  },
  {
   "cell_type": "markdown",
   "metadata": {},
   "source": [
    "# Extract article content\n",
    "각 기사의 본문 내용 크롤링 및 추출, 파싱 (Newspaper3k)"
   ]
  },
  {
   "cell_type": "code",
   "execution_count": 7,
   "metadata": {},
   "outputs": [
    {
     "name": "stdout",
     "output_type": "stream",
     "text": [
      "34485\n",
      "1. Welcome to OpenAI o1\n",
      "\n",
      "The o1 series is the first in a new line of AI models focused on enhanced reasoning capabilities. This series, starting with the o1-preview and o1-mini, is designed to think more deeply and systematically before delivering responses. The result? Improved performance in tackling intricate problems across a variety of domains, including science, coding, and mathematics.\n",
      "\n",
      "2. Advanced Reasoning for Complex Tasks\n",
      "\n",
      "Unlike its predecessors, the o1 models leverage Chain-of-Thoug\n"
     ]
    }
   ],
   "source": [
    "from newspaper import Article\n",
    "\n",
    "article_texts = \"\"\n",
    "\n",
    "for url in relevant_urls:\n",
    "    try:\n",
    "        article = Article(url)\n",
    "        article.download()\n",
    "        article.parse()\n",
    "        article_texts += article.text\n",
    "    except Exception as e:\n",
    "        print(f\"Error parsing article from {url}: {e}\")\n",
    "\n",
    "print(len(article_texts))\n",
    "print(article_texts[:500])"
   ]
  },
  {
   "cell_type": "markdown",
   "metadata": {},
   "source": [
    "# Generate article\n",
    "Claude 3.5 Sonnet 모델을 사용하여 고품질의 기사 생성"
   ]
  },
  {
   "cell_type": "code",
   "execution_count": 8,
   "metadata": {},
   "outputs": [
    {
     "name": "stdout",
     "output_type": "stream",
     "text": [
      "OpenAI, 혁신적인 AI 모델 'GPT o1-preview' 공개\n",
      "\n",
      "인공지능 기술의 새로운 지평을 열다\n",
      "\n",
      "OpenAI가 기존 대규모 언어 모델들을 뛰어넘는 추론 및 수학 능력을 갖춘 새로운 AI 모델 가족을 발표했다. 지난 목요일, 이 회사는 'o1-preview'와 'o1-mini'라는 두 가지 모델의 '프리뷰' 버전을 일부 유료 사용자들에게 공개했다.\n",
      "\n",
      "향상된 추론과 수학 능력을 갖춘 AI는 화학자, 물리학자, 엔지니어들이 복잡한 문제의 해답을 도출하는 데 도움을 줄 수 있어 새로운 제품 개발에 기여할 것으로 기대된다. 또한 투자자들의 옵션 거래 전략 계산이나 재무 설계사들의 위험-보상 균형을 고려한 포트폴리오 구성에도 활용될 수 있다.\n",
      "\n",
      "더 나은 추론, 계획, 문제 해결 능력은 기술 기업들이 복잡한 작업을 수행할 수 있는 AI 에이전트를 구축하려는 노력에도 필수적이다. 이러한 에이전트는 전체 컴퓨터 프로그램 작성, 웹에서 정보 찾기, 스프레드시트로 데이터 가져오기, 데이터 분석 수행, 결과 요약 보고서 작성 등의 작업을 수행할 수 있을 것으로 예상된다.\n",
      "\n",
      "OpenAI는 o1 모델에 대한 인상적인 벤치마크 결과를 발표했다. 내부적으로 '스트로베리'라는 코드명으로 불렸던 이 모델은 고등학생들을 위한 AIME 수학 경진대회 문제에서 83.3%의 정답률을 보였다. 이는 GPT-4o의 13.4% 정답률과 비교할 때 큰 진전이다. 또 다른 평가에서는 박사 수준의 과학 문제의 78%를 정확히 답변했는데, 이는 GPT-4o의 56.1%와 인간 전문가의 69.7%를 뛰어넘는 성과다.\n",
      "\n",
      "o1 모델은 또한 이전 모델들에 비해 '환각' - 그럴듯하지만 부정확한 답변을 자신 있게 제공하는 현상 - 가능성이 크게 낮아졌다고 OpenAI는 밝혔다. 안전 가드레일을 우회하도록 유도하는 '탈옥'도 더 어려워졌다.\n",
      "\n",
      "o1-preview가 널리 사용 가능해진 후 몇 시간 동안 사용자들이 실시한 테스트에서, 이 모델은 GPT-4와 GPT-4o를 포함한 OpenAI의 가장 강력한 이전 모델들을 당황하게 만들었던 많은 질문들에 정확히 답변할 수 있는 것으로 나타났다.\n",
      "\n",
      "그러나 o1-preview는 여전히 일부 수수께끼에 걸려 넘어지고 있으며, OpenAI의 자체 평가에서도 틱택토와 같은 단순해 보이는 작업에서 때때로 실패하는 모습을 보였다. 이는 o1이 보여주는 '추론'에 여전히 상당한 한계가 있음을 시사할 수 있다. 글쓰기와 편집 같은 언어 작업에서는 OpenAI가 고용한 인간 평가자들이 GPT-4o가 o1 모델들보다 더 나은 응답을 생성한다고 판단하는 경향이 있었다.\n",
      "\n",
      "o1 모델은 또한 GPT-4o보다 응답 생성에 상당히 더 많은 시간이 걸린다. OpenAI가 발표한 테스트에 따르면, o1-preview 모델은 GPT-4o 모델이 3초 만에 답변한 질문에 30초 이상 걸릴 수 있다.\n",
      "\n",
      "o1 모델들은 아직 ChatGPT에 완전히 통합되지 않았다. 사용자는 자신의 프롬프트를 o1-preview로 처리할지 GPT-4o로 처리할지 결정해야 하며, 모델 자체는 질문이 o1의 느리지만 단계적인 추론 과정이 필요한지, 아니면 GPT-4나 GPT-3로도 충분한지 결정할 수 없다. 또한 o1 모델은 텍스트에만 작동하며 다른 AI 모델들과 달리 이미지, 오디오, 비디오 입력과 출력을 처리할 수 없다.\n",
      "\n",
      "OpenAI는 o1-preview와 o1-mini 모델을 프리미엄 ChatGPT Plus 및 ChatGPT Teams 제품의 모든 구독자와 기업용 애플리케이션 프로그래밍 인터페이스(API)를 사용하는 최상위 개발자들에게 제공했다.\n",
      "\n",
      "o1 모델에 대해 알아야 할 9가지 사항은 다음과 같다:\n",
      "\n",
      "1. 이것은 AGI(인공 일반 지능)가 아니다. o1-preview가 추론 작업에서 훨씬 더 뛰어난 능력을 보이지만, 그 한계와 실패는 여전히 인간이 보여주는 종류의 지능과는 거리가 멀다는 것을 보여준다.\n",
      "\n",
      "2. o1은 Google, Meta 등에 압력을 가하지만 경쟁 구도를 크게 바꾸지는 않을 것이다. 기반 모델 능력이 점점 더 상품화되는 시점에서 o1은 OpenAI에 일시적인 우위를 제공한다. 그러나 이는 매우 단기간일 가능성이 높다.\n",
      "\n",
      "3. o1이 정확히 어떻게 작동하는지는 알려지지 않았다. OpenAI는 o1의 성능에 대해 많은 정보를 공개했지만, 정확히 어떻게 작동하는지 또는 무엇으로 훈련되었는지에 대해서는 상대적으로 적은 정보만을 제공했다.\n",
      "\n",
      "4. o1-preview 사용은 저렴하지 않을 것이다. ChatGPT Plus 사용자들은 현재 월 20달러의 구독료 외에 추가 비용 없이 o1-preview에 접근할 수 있지만, 사용량은 하루 일정 수의 쿼리로 제한된다.\n",
      "\n",
      "5. 고객들은 OpenAI가 o1의 '사고 과정'을 숨기기로 한 결정에 반발할 수 있다. OpenAI는 안전과 경쟁상의 이유로 사용자들이 사고 과정을 볼 수 없도록 결정했다고 밝혔다.\n",
      "\n",
      "6. OpenAI는 o1이 훈련뿐만 아니라 추론에도 적용되는 새로운 '스케일링 법칙'을 보여준다고 말한다. AI 연구자들은 o1에 대한 OpenAI의 발표와 함께 새로운 '스케일링 법칙' 세트에 대해 논의하고 있다.\n",
      "\n",
      "7. o1은 강력한 AI 에이전트를 만드는 데 도움이 될 수 있지만 일부 위험을 수반한다. 비디오에서 OpenAI는 o1에 조기 접근한 AI 스타트업 Cognition과의 작업을 강조했다.\n",
      "\n",
      "8. OpenAI는 o1이 많은 면에서 더 안전하지만 생물학적 공격을 돕는 '중간 위험'을 제시한다고 말한다. OpenAI는 많은 테스트 결과를 발표했는데, 이는 o1이 여러 면에서 이전 GPT 모델들보 더 안전한 모델임을 보여준다.\n",
      "\n",
      "9. AI 안전 전문가들은 다른 이유로도 o1에 대해 우려하고 있다. OpenAI는 또한 '설득'이라고 부르는 위험 범주에서 o1을 '중간 위험'으로 평가했다.\n",
      "\n",
      "o1의 출시는 AI 개발의 새로운 시대를 열었으며, 향상된 추론 능력과 분야 발전에 대한 헌신을 강조한다. ChatGPT와 개발자를 위한 API 접근을 통한 초기 가용성으로, o1 모델은 AI 성능과 유용성에 있어 새로운 기준을 세울 준비가 되어 있다. 업데이트와 개선이 계속됨에 따라, 이 모델들은 의심할 여지 없이 복잡한 문제 해결에 있어 더 큰 진전을 제공할 것이다.\n"
     ]
    }
   ],
   "source": [
    "system_prompt = \"You are a journalist. Write a high-quality, NYT-worthy article on the given topic based on the provided article texts. The article should be well-structured, inormative, and engaging to Korean readers.\"\n",
    "messages = [{\n",
    "    \"role\": \"user\",\n",
    "    \"content\": f\"Topic: {topic}\\n\\nArticle Texts:\\n{article_texts}\\n\\nPlease write a high-quality, NYT-worthy article on the topic based on the provided article texts. The article should be well-structured, informative, and engaging. Ensure the length is at least as long as as a NYT cover story -- at a minimum, 15 paragraphs. Ensure the article is written in Korean.\"\n",
    "}]\n",
    "\n",
    "message = client.messages.create(\n",
    "    model=\"claude-3-5-sonnet-20240620\",\n",
    "    max_tokens=3000,\n",
    "    temperature=0.5,\n",
    "    system=system_prompt,\n",
    "    messages=messages,\n",
    ")\n",
    "\n",
    "print(message.content[0].text)"
   ]
  },
  {
   "cell_type": "code",
   "execution_count": 9,
   "metadata": {},
   "outputs": [],
   "source": [
    "with open(\"news.txt\", \"w\", encoding=\"utf-8\") as f:\n",
    "    f.write(message.content[0].text)"
   ]
  }
 ],
 "metadata": {
  "kernelspec": {
   "display_name": "venv",
   "language": "python",
   "name": "python3"
  },
  "language_info": {
   "codemirror_mode": {
    "name": "ipython",
    "version": 3
   },
   "file_extension": ".py",
   "mimetype": "text/x-python",
   "name": "python",
   "nbconvert_exporter": "python",
   "pygments_lexer": "ipython3",
   "version": "3.11.6"
  }
 },
 "nbformat": 4,
 "nbformat_minor": 2
}
