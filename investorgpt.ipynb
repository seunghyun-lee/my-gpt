{
 "cells": [
  {
   "cell_type": "code",
   "execution_count": 1,
   "metadata": {},
   "outputs": [
    {
     "name": "stderr",
     "output_type": "stream",
     "text": [
      "/var/folders/gh/6gsh3jws6nx9x0d7wq7516p40000gn/T/ipykernel_51464/3745824028.py:9: LangChainDeprecationWarning: The class `ChatOpenAI` was deprecated in LangChain 0.0.10 and will be removed in 1.0. An updated version of the class exists in the langchain-openai package and should be used instead. To use it run `pip install -U langchain-openai` and import as `from langchain_openai import ChatOpenAI`.\n",
      "  llm = ChatOpenAI(\n",
      "/var/folders/gh/6gsh3jws6nx9x0d7wq7516p40000gn/T/ipykernel_51464/3745824028.py:29: LangChainDeprecationWarning: The function `initialize_agent` was deprecated in LangChain 0.1.0 and will be removed in 1.0. Use Use new agent constructor methods like create_react_agent, create_json_agent, create_structured_chat_agent, etc. instead.\n",
      "  agent = initialize_agent(\n"
     ]
    },
    {
     "name": "stdout",
     "output_type": "stream",
     "text": [
      "\n",
      "\n",
      "\u001b[1m> Entering new AgentExecutor chain...\u001b[0m\n",
      "\u001b[32;1m\u001b[1;3m\n",
      "Invoking: `StockMarketSymbolSearchTool` with `{'query': 'Cloudflare'}`\n",
      "\n",
      "\n",
      "\u001b[0m\u001b[36;1m\u001b[1;3mCloudflare Stream is an end-to-end solution for video encoding, storage, delivery, and playback, focused on simplifying all aspects of video for developers. Newly uploaded or ingested portrait videos will now automatically be processed in full HD quality... Cloudflare's connectivity cloud protects entire corporate networks, helps customers build Internet-scale applications efficiently, accelerates any website or Internet application, wards off DDoS attacks, keeps hackers at bay, and can help you on your journey to Zero Trust. Visit 1.1.1.1 from any device to get started with our free app that makes your Internet faster and safer. The backbone is a dedicated high-capacity optical fiber network that moves traffic between Cloudflare's global data centers, where we interconnect with other networks using these above-mentioned traffic exchange methods. It enables data transfers that are more reliable than over the public Internet. Cloudflare's Year in Review revealed that in 2023 alone, there was a 25% increase in global traffic, with no signs of slowing. This growth underscores the dependency on Internet services to facilitate and underpin vital systems and tasks such as supporting global digital economies, enabling the operations of healthcare networks, maintaining ... Cloudflare is a privacy-first company. As such, the General Data Protection Regulation (\"GDPR\") represents many steps we were already taking. We do not sell personal data we process, or use it for any purpose other than delivering our services. In addition, we let people access, correct, and delete their personal information, and give our ...\u001b[0m\u001b[32;1m\u001b[1;3mThe stock symbol for Cloudflare is **NET**.\n",
      "\n",
      "### Overview of Cloudflare (NET)\n",
      "Cloudflare is a company that provides a suite of services designed to enhance the security, performance, and reliability of websites and applications. Their offerings include DDoS protection, content delivery network (CDN) services, and various security features aimed at protecting corporate networks and applications.\n",
      "\n",
      "### Recent Performance and Analysis\n",
      "1. **Growth Potential**: Cloudflare has shown significant growth in recent years, with a reported 25% increase in global traffic in 2023. This indicates a strong demand for their services, which are critical for businesses operating online.\n",
      "\n",
      "2. **Market Position**: As a leader in the cybersecurity and web performance space, Cloudflare benefits from the increasing need for robust internet security solutions. The shift towards digital transformation across industries further supports their growth trajectory.\n",
      "\n",
      "3. **Financial Health**: To assess whether Cloudflare is a good investment, you would typically look at key financial metrics such as revenue growth, profitability, cash flow, and balance sheet strength. As of the latest reports, Cloudflare has been focusing on expanding its customer base and enhancing its product offerings, which could lead to sustained revenue growth.\n",
      "\n",
      "4. **Valuation**: It's important to consider the stock's valuation metrics, such as the price-to-earnings (P/E) ratio, price-to-sales (P/S) ratio, and others. A high valuation might indicate that the stock is overvalued, while a low valuation could suggest it is undervalued.\n",
      "\n",
      "5. **Market Trends**: The cybersecurity market is expected to grow significantly, driven by increasing cyber threats and the need for businesses to protect their digital assets. Cloudflare is well-positioned to capitalize on this trend.\n",
      "\n",
      "### Conclusion\n",
      "Cloudflare (NET) appears to be a strong player in a growing market, with a solid business model and increasing demand for its services. However, potential investors should conduct further analysis, including reviewing the latest financial statements, market conditions, and their own investment strategy and risk tolerance before making any investment decisions.\u001b[0m\n",
      "\n",
      "\u001b[1m> Finished chain.\u001b[0m\n"
     ]
    },
    {
     "data": {
      "text/plain": [
       "{'input': \"Give me information on Cloudflare's stock and help me analyze if it's a potential good investment. Also tell me what symbol does the stock have.\",\n",
       " 'output': \"The stock symbol for Cloudflare is **NET**.\\n\\n### Overview of Cloudflare (NET)\\nCloudflare is a company that provides a suite of services designed to enhance the security, performance, and reliability of websites and applications. Their offerings include DDoS protection, content delivery network (CDN) services, and various security features aimed at protecting corporate networks and applications.\\n\\n### Recent Performance and Analysis\\n1. **Growth Potential**: Cloudflare has shown significant growth in recent years, with a reported 25% increase in global traffic in 2023. This indicates a strong demand for their services, which are critical for businesses operating online.\\n\\n2. **Market Position**: As a leader in the cybersecurity and web performance space, Cloudflare benefits from the increasing need for robust internet security solutions. The shift towards digital transformation across industries further supports their growth trajectory.\\n\\n3. **Financial Health**: To assess whether Cloudflare is a good investment, you would typically look at key financial metrics such as revenue growth, profitability, cash flow, and balance sheet strength. As of the latest reports, Cloudflare has been focusing on expanding its customer base and enhancing its product offerings, which could lead to sustained revenue growth.\\n\\n4. **Valuation**: It's important to consider the stock's valuation metrics, such as the price-to-earnings (P/E) ratio, price-to-sales (P/S) ratio, and others. A high valuation might indicate that the stock is overvalued, while a low valuation could suggest it is undervalued.\\n\\n5. **Market Trends**: The cybersecurity market is expected to grow significantly, driven by increasing cyber threats and the need for businesses to protect their digital assets. Cloudflare is well-positioned to capitalize on this trend.\\n\\n### Conclusion\\nCloudflare (NET) appears to be a strong player in a growing market, with a solid business model and increasing demand for its services. However, potential investors should conduct further analysis, including reviewing the latest financial statements, market conditions, and their own investment strategy and risk tolerance before making any investment decisions.\"}"
      ]
     },
     "execution_count": 1,
     "metadata": {},
     "output_type": "execute_result"
    }
   ],
   "source": [
    "from typing import Any, Type\n",
    "from langchain.chat_models import ChatOpenAI\n",
    "from langchain.tools import BaseTool\n",
    "from pydantic import BaseModel, Field\n",
    "from langchain.tools import StructuredTool, Tool\n",
    "from langchain.agents import initialize_agent, AgentType\n",
    "from langchain.utilities import DuckDuckGoSearchAPIWrapper\n",
    "\n",
    "llm = ChatOpenAI(\n",
    "    temperature=0.1,\n",
    "    model=\"gpt-4o-mini\",\n",
    ")\n",
    "\n",
    "class StockMarketSymbolSearchToolArgsSchema(BaseModel):\n",
    "    query: str = Field(description=\"The query you will search for. Example query: Stock Market Symbol for Apple Company\")\n",
    "\n",
    "class StockMarketSymbolSearchTool(BaseTool):\n",
    "    name = \"StockMarketSymbolSearchTool\"\n",
    "    description = \"\"\"\n",
    "    Use this tool to find to the stock market symbol for a company.\n",
    "    It takes a query as an argument.\n",
    "    \"\"\"\n",
    "    args_schema: Type[StockMarketSymbolSearchToolArgsSchema] = StockMarketSymbolSearchToolArgsSchema\n",
    "\n",
    "    def _run(self, query):\n",
    "        ddg = DuckDuckGoSearchAPIWrapper()\n",
    "        return ddg.run(query)\n",
    "\n",
    "agent = initialize_agent(\n",
    "    llm=llm,\n",
    "    verbose=True,\n",
    "    agent=AgentType.OPENAI_FUNCTIONS,\n",
    "    handle_parsing_errors=True,\n",
    "    tools=[\n",
    "        StockMarketSymbolSearchTool(),\n",
    "    ],\n",
    ")\n",
    "\n",
    "prompt = \"Give me information on Cloudflare's stock and help me analyze if it's a potential good investment. Also tell me what symbol does the stock have.\"\n",
    "\n",
    "agent.invoke(prompt)"
   ]
  },
  {
   "cell_type": "code",
   "execution_count": null,
   "metadata": {},
   "outputs": [],
   "source": [
    "\n"
   ]
  }
 ],
 "metadata": {
  "kernelspec": {
   "display_name": "venv",
   "language": "python",
   "name": "python3"
  },
  "language_info": {
   "codemirror_mode": {
    "name": "ipython",
    "version": 3
   },
   "file_extension": ".py",
   "mimetype": "text/x-python",
   "name": "python",
   "nbconvert_exporter": "python",
   "pygments_lexer": "ipython3",
   "version": "3.11.6"
  }
 },
 "nbformat": 4,
 "nbformat_minor": 2
}
